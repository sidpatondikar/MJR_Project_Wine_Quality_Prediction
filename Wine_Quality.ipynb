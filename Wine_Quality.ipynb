{
 "cells": [
  {
   "cell_type": "markdown",
   "id": "8da090f5",
   "metadata": {},
   "source": [
    "# Corizo Major Project"
   ]
  },
  {
   "cell_type": "markdown",
   "id": "0aa3b8e5",
   "metadata": {},
   "source": [
    "# Wine Quality Prediction"
   ]
  },
  {
   "cell_type": "markdown",
   "id": "a0560661",
   "metadata": {},
   "source": [
    "## Author : Siddharth Patondikar"
   ]
  },
  {
   "cell_type": "markdown",
   "id": "570df116",
   "metadata": {},
   "source": [
    "### Importing Libraries"
   ]
  },
  {
   "cell_type": "code",
   "execution_count": 1,
   "id": "b65c897e",
   "metadata": {},
   "outputs": [],
   "source": [
    "import numpy as np\n",
    "import pandas as pd\n",
    "import matplotlib.pyplot as plt\n",
    "import seaborn as sns\n",
    "\n",
    "from sklearn.model_selection import train_test_split\n",
    "from sklearn.ensemble import RandomForestClassifier\n",
    "from sklearn.metrics import accuracy_score\n",
    "from sklearn.metrics import confusion_matrix"
   ]
  },
  {
   "cell_type": "markdown",
   "id": "4385ce46",
   "metadata": {},
   "source": [
    "### Loading Dataset"
   ]
  },
  {
   "cell_type": "code",
   "execution_count": 2,
   "id": "53a33afc",
   "metadata": {},
   "outputs": [
    {
     "data": {
      "text/html": [
       "<div>\n",
       "<style scoped>\n",
       "    .dataframe tbody tr th:only-of-type {\n",
       "        vertical-align: middle;\n",
       "    }\n",
       "\n",
       "    .dataframe tbody tr th {\n",
       "        vertical-align: top;\n",
       "    }\n",
       "\n",
       "    .dataframe thead th {\n",
       "        text-align: right;\n",
       "    }\n",
       "</style>\n",
       "<table border=\"1\" class=\"dataframe\">\n",
       "  <thead>\n",
       "    <tr style=\"text-align: right;\">\n",
       "      <th></th>\n",
       "      <th>fixed acidity</th>\n",
       "      <th>volatile acidity</th>\n",
       "      <th>citric acid</th>\n",
       "      <th>residual sugar</th>\n",
       "      <th>chlorides</th>\n",
       "      <th>free sulfur dioxide</th>\n",
       "      <th>total sulfur dioxide</th>\n",
       "      <th>density</th>\n",
       "      <th>pH</th>\n",
       "      <th>sulphates</th>\n",
       "      <th>alcohol</th>\n",
       "      <th>quality</th>\n",
       "    </tr>\n",
       "  </thead>\n",
       "  <tbody>\n",
       "    <tr>\n",
       "      <th>0</th>\n",
       "      <td>7.4</td>\n",
       "      <td>0.70</td>\n",
       "      <td>0.00</td>\n",
       "      <td>1.9</td>\n",
       "      <td>0.076</td>\n",
       "      <td>11.0</td>\n",
       "      <td>34.0</td>\n",
       "      <td>0.9978</td>\n",
       "      <td>3.51</td>\n",
       "      <td>0.56</td>\n",
       "      <td>9.4</td>\n",
       "      <td>5.0</td>\n",
       "    </tr>\n",
       "    <tr>\n",
       "      <th>1</th>\n",
       "      <td>7.8</td>\n",
       "      <td>0.88</td>\n",
       "      <td>0.00</td>\n",
       "      <td>2.6</td>\n",
       "      <td>0.098</td>\n",
       "      <td>25.0</td>\n",
       "      <td>67.0</td>\n",
       "      <td>0.9968</td>\n",
       "      <td>3.20</td>\n",
       "      <td>0.68</td>\n",
       "      <td>9.8</td>\n",
       "      <td>5.0</td>\n",
       "    </tr>\n",
       "    <tr>\n",
       "      <th>2</th>\n",
       "      <td>7.8</td>\n",
       "      <td>0.76</td>\n",
       "      <td>0.04</td>\n",
       "      <td>2.3</td>\n",
       "      <td>0.092</td>\n",
       "      <td>15.0</td>\n",
       "      <td>54.0</td>\n",
       "      <td>0.9970</td>\n",
       "      <td>3.26</td>\n",
       "      <td>0.65</td>\n",
       "      <td>9.8</td>\n",
       "      <td>5.0</td>\n",
       "    </tr>\n",
       "    <tr>\n",
       "      <th>3</th>\n",
       "      <td>11.2</td>\n",
       "      <td>0.28</td>\n",
       "      <td>0.56</td>\n",
       "      <td>1.9</td>\n",
       "      <td>0.075</td>\n",
       "      <td>17.0</td>\n",
       "      <td>60.0</td>\n",
       "      <td>0.9980</td>\n",
       "      <td>3.16</td>\n",
       "      <td>0.58</td>\n",
       "      <td>9.8</td>\n",
       "      <td>6.0</td>\n",
       "    </tr>\n",
       "    <tr>\n",
       "      <th>4</th>\n",
       "      <td>7.4</td>\n",
       "      <td>0.70</td>\n",
       "      <td>0.00</td>\n",
       "      <td>1.9</td>\n",
       "      <td>0.076</td>\n",
       "      <td>11.0</td>\n",
       "      <td>34.0</td>\n",
       "      <td>0.9978</td>\n",
       "      <td>3.51</td>\n",
       "      <td>0.56</td>\n",
       "      <td>9.4</td>\n",
       "      <td>5.0</td>\n",
       "    </tr>\n",
       "  </tbody>\n",
       "</table>\n",
       "</div>"
      ],
      "text/plain": [
       "   fixed acidity  volatile acidity  citric acid  residual sugar  chlorides  \\\n",
       "0            7.4              0.70         0.00             1.9      0.076   \n",
       "1            7.8              0.88         0.00             2.6      0.098   \n",
       "2            7.8              0.76         0.04             2.3      0.092   \n",
       "3           11.2              0.28         0.56             1.9      0.075   \n",
       "4            7.4              0.70         0.00             1.9      0.076   \n",
       "\n",
       "   free sulfur dioxide  total sulfur dioxide  density    pH  sulphates  \\\n",
       "0                 11.0                  34.0   0.9978  3.51       0.56   \n",
       "1                 25.0                  67.0   0.9968  3.20       0.68   \n",
       "2                 15.0                  54.0   0.9970  3.26       0.65   \n",
       "3                 17.0                  60.0   0.9980  3.16       0.58   \n",
       "4                 11.0                  34.0   0.9978  3.51       0.56   \n",
       "\n",
       "   alcohol  quality  \n",
       "0      9.4      5.0  \n",
       "1      9.8      5.0  \n",
       "2      9.8      5.0  \n",
       "3      9.8      6.0  \n",
       "4      9.4      5.0  "
      ]
     },
     "execution_count": 2,
     "metadata": {},
     "output_type": "execute_result"
    }
   ],
   "source": [
    "wine_df = pd.read_csv('Wine_Quality_Red_wine.csv')\n",
    "wine_df.head()"
   ]
  },
  {
   "cell_type": "code",
   "execution_count": 3,
   "id": "3570d6fe",
   "metadata": {},
   "outputs": [
    {
     "data": {
      "text/plain": [
       "(1599, 12)"
      ]
     },
     "execution_count": 3,
     "metadata": {},
     "output_type": "execute_result"
    }
   ],
   "source": [
    "wine_df.shape"
   ]
  },
  {
   "cell_type": "code",
   "execution_count": 4,
   "id": "bd7732b5",
   "metadata": {},
   "outputs": [
    {
     "data": {
      "text/plain": [
       "Index(['fixed acidity', 'volatile acidity', 'citric acid', 'residual sugar',\n",
       "       'chlorides', 'free sulfur dioxide', 'total sulfur dioxide', 'density',\n",
       "       'pH', 'sulphates', 'alcohol', 'quality'],\n",
       "      dtype='object')"
      ]
     },
     "execution_count": 4,
     "metadata": {},
     "output_type": "execute_result"
    }
   ],
   "source": [
    "wine_df.columns"
   ]
  },
  {
   "cell_type": "code",
   "execution_count": 5,
   "id": "d6992a1c",
   "metadata": {},
   "outputs": [
    {
     "name": "stdout",
     "output_type": "stream",
     "text": [
      "<class 'pandas.core.frame.DataFrame'>\n",
      "RangeIndex: 1599 entries, 0 to 1598\n",
      "Data columns (total 12 columns):\n",
      " #   Column                Non-Null Count  Dtype  \n",
      "---  ------                --------------  -----  \n",
      " 0   fixed acidity         1599 non-null   float64\n",
      " 1   volatile acidity      1599 non-null   float64\n",
      " 2   citric acid           1599 non-null   float64\n",
      " 3   residual sugar        1599 non-null   float64\n",
      " 4   chlorides             1599 non-null   float64\n",
      " 5   free sulfur dioxide   1599 non-null   float64\n",
      " 6   total sulfur dioxide  1598 non-null   float64\n",
      " 7   density               1599 non-null   float64\n",
      " 8   pH                    1598 non-null   float64\n",
      " 9   sulphates             1599 non-null   float64\n",
      " 10  alcohol               1599 non-null   float64\n",
      " 11  quality               1598 non-null   float64\n",
      "dtypes: float64(12)\n",
      "memory usage: 150.0 KB\n"
     ]
    }
   ],
   "source": [
    "wine_df.info()"
   ]
  },
  {
   "cell_type": "code",
   "execution_count": 6,
   "id": "d5da65a7",
   "metadata": {},
   "outputs": [
    {
     "data": {
      "text/html": [
       "<div>\n",
       "<style scoped>\n",
       "    .dataframe tbody tr th:only-of-type {\n",
       "        vertical-align: middle;\n",
       "    }\n",
       "\n",
       "    .dataframe tbody tr th {\n",
       "        vertical-align: top;\n",
       "    }\n",
       "\n",
       "    .dataframe thead th {\n",
       "        text-align: right;\n",
       "    }\n",
       "</style>\n",
       "<table border=\"1\" class=\"dataframe\">\n",
       "  <thead>\n",
       "    <tr style=\"text-align: right;\">\n",
       "      <th></th>\n",
       "      <th>fixed acidity</th>\n",
       "      <th>volatile acidity</th>\n",
       "      <th>citric acid</th>\n",
       "      <th>residual sugar</th>\n",
       "      <th>chlorides</th>\n",
       "      <th>free sulfur dioxide</th>\n",
       "      <th>total sulfur dioxide</th>\n",
       "      <th>density</th>\n",
       "      <th>pH</th>\n",
       "      <th>sulphates</th>\n",
       "      <th>alcohol</th>\n",
       "      <th>quality</th>\n",
       "    </tr>\n",
       "  </thead>\n",
       "  <tbody>\n",
       "    <tr>\n",
       "      <th>count</th>\n",
       "      <td>1599.000000</td>\n",
       "      <td>1599.000000</td>\n",
       "      <td>1599.000000</td>\n",
       "      <td>1599.000000</td>\n",
       "      <td>1599.000000</td>\n",
       "      <td>1599.000000</td>\n",
       "      <td>1598.000000</td>\n",
       "      <td>1599.000000</td>\n",
       "      <td>1598.000000</td>\n",
       "      <td>1599.000000</td>\n",
       "      <td>1599.000000</td>\n",
       "      <td>1598.000000</td>\n",
       "    </tr>\n",
       "    <tr>\n",
       "      <th>mean</th>\n",
       "      <td>8.319637</td>\n",
       "      <td>0.527821</td>\n",
       "      <td>0.270976</td>\n",
       "      <td>2.538806</td>\n",
       "      <td>0.087467</td>\n",
       "      <td>15.874922</td>\n",
       "      <td>46.433041</td>\n",
       "      <td>0.996747</td>\n",
       "      <td>3.498586</td>\n",
       "      <td>0.658149</td>\n",
       "      <td>10.422983</td>\n",
       "      <td>5.636421</td>\n",
       "    </tr>\n",
       "    <tr>\n",
       "      <th>std</th>\n",
       "      <td>1.741096</td>\n",
       "      <td>0.179060</td>\n",
       "      <td>0.194801</td>\n",
       "      <td>1.409928</td>\n",
       "      <td>0.047065</td>\n",
       "      <td>10.460157</td>\n",
       "      <td>32.876249</td>\n",
       "      <td>0.001887</td>\n",
       "      <td>0.080346</td>\n",
       "      <td>0.169507</td>\n",
       "      <td>1.065668</td>\n",
       "      <td>0.807665</td>\n",
       "    </tr>\n",
       "    <tr>\n",
       "      <th>min</th>\n",
       "      <td>4.600000</td>\n",
       "      <td>0.120000</td>\n",
       "      <td>0.000000</td>\n",
       "      <td>0.900000</td>\n",
       "      <td>0.012000</td>\n",
       "      <td>1.000000</td>\n",
       "      <td>6.000000</td>\n",
       "      <td>0.990070</td>\n",
       "      <td>2.740000</td>\n",
       "      <td>0.330000</td>\n",
       "      <td>8.400000</td>\n",
       "      <td>3.000000</td>\n",
       "    </tr>\n",
       "    <tr>\n",
       "      <th>25%</th>\n",
       "      <td>7.100000</td>\n",
       "      <td>0.390000</td>\n",
       "      <td>0.090000</td>\n",
       "      <td>1.900000</td>\n",
       "      <td>0.070000</td>\n",
       "      <td>7.000000</td>\n",
       "      <td>22.000000</td>\n",
       "      <td>0.995600</td>\n",
       "      <td>3.520000</td>\n",
       "      <td>0.550000</td>\n",
       "      <td>9.500000</td>\n",
       "      <td>5.000000</td>\n",
       "    </tr>\n",
       "    <tr>\n",
       "      <th>50%</th>\n",
       "      <td>7.900000</td>\n",
       "      <td>0.520000</td>\n",
       "      <td>0.260000</td>\n",
       "      <td>2.200000</td>\n",
       "      <td>0.079000</td>\n",
       "      <td>14.000000</td>\n",
       "      <td>38.000000</td>\n",
       "      <td>0.996750</td>\n",
       "      <td>3.520000</td>\n",
       "      <td>0.620000</td>\n",
       "      <td>10.200000</td>\n",
       "      <td>6.000000</td>\n",
       "    </tr>\n",
       "    <tr>\n",
       "      <th>75%</th>\n",
       "      <td>9.200000</td>\n",
       "      <td>0.640000</td>\n",
       "      <td>0.420000</td>\n",
       "      <td>2.600000</td>\n",
       "      <td>0.090000</td>\n",
       "      <td>21.000000</td>\n",
       "      <td>62.000000</td>\n",
       "      <td>0.997835</td>\n",
       "      <td>3.520000</td>\n",
       "      <td>0.730000</td>\n",
       "      <td>11.100000</td>\n",
       "      <td>6.000000</td>\n",
       "    </tr>\n",
       "    <tr>\n",
       "      <th>max</th>\n",
       "      <td>15.900000</td>\n",
       "      <td>1.580000</td>\n",
       "      <td>1.000000</td>\n",
       "      <td>15.500000</td>\n",
       "      <td>0.611000</td>\n",
       "      <td>72.000000</td>\n",
       "      <td>289.000000</td>\n",
       "      <td>1.003690</td>\n",
       "      <td>3.900000</td>\n",
       "      <td>2.000000</td>\n",
       "      <td>14.900000</td>\n",
       "      <td>8.000000</td>\n",
       "    </tr>\n",
       "  </tbody>\n",
       "</table>\n",
       "</div>"
      ],
      "text/plain": [
       "       fixed acidity  volatile acidity  citric acid  residual sugar  \\\n",
       "count    1599.000000       1599.000000  1599.000000     1599.000000   \n",
       "mean        8.319637          0.527821     0.270976        2.538806   \n",
       "std         1.741096          0.179060     0.194801        1.409928   \n",
       "min         4.600000          0.120000     0.000000        0.900000   \n",
       "25%         7.100000          0.390000     0.090000        1.900000   \n",
       "50%         7.900000          0.520000     0.260000        2.200000   \n",
       "75%         9.200000          0.640000     0.420000        2.600000   \n",
       "max        15.900000          1.580000     1.000000       15.500000   \n",
       "\n",
       "         chlorides  free sulfur dioxide  total sulfur dioxide      density  \\\n",
       "count  1599.000000          1599.000000           1598.000000  1599.000000   \n",
       "mean      0.087467            15.874922             46.433041     0.996747   \n",
       "std       0.047065            10.460157             32.876249     0.001887   \n",
       "min       0.012000             1.000000              6.000000     0.990070   \n",
       "25%       0.070000             7.000000             22.000000     0.995600   \n",
       "50%       0.079000            14.000000             38.000000     0.996750   \n",
       "75%       0.090000            21.000000             62.000000     0.997835   \n",
       "max       0.611000            72.000000            289.000000     1.003690   \n",
       "\n",
       "                pH    sulphates      alcohol      quality  \n",
       "count  1598.000000  1599.000000  1599.000000  1598.000000  \n",
       "mean      3.498586     0.658149    10.422983     5.636421  \n",
       "std       0.080346     0.169507     1.065668     0.807665  \n",
       "min       2.740000     0.330000     8.400000     3.000000  \n",
       "25%       3.520000     0.550000     9.500000     5.000000  \n",
       "50%       3.520000     0.620000    10.200000     6.000000  \n",
       "75%       3.520000     0.730000    11.100000     6.000000  \n",
       "max       3.900000     2.000000    14.900000     8.000000  "
      ]
     },
     "execution_count": 6,
     "metadata": {},
     "output_type": "execute_result"
    }
   ],
   "source": [
    "wine_df.describe()"
   ]
  },
  {
   "cell_type": "code",
   "execution_count": 7,
   "id": "254828fc",
   "metadata": {},
   "outputs": [
    {
     "data": {
      "text/plain": [
       "fixed acidity           0\n",
       "volatile acidity        0\n",
       "citric acid             0\n",
       "residual sugar          0\n",
       "chlorides               0\n",
       "free sulfur dioxide     0\n",
       "total sulfur dioxide    1\n",
       "density                 0\n",
       "pH                      1\n",
       "sulphates               0\n",
       "alcohol                 0\n",
       "quality                 1\n",
       "dtype: int64"
      ]
     },
     "execution_count": 7,
     "metadata": {},
     "output_type": "execute_result"
    }
   ],
   "source": [
    "wine_df.isnull().sum()"
   ]
  },
  {
   "cell_type": "code",
   "execution_count": 8,
   "id": "95ba8b5e",
   "metadata": {},
   "outputs": [
    {
     "data": {
      "text/plain": [
       "(1596, 12)"
      ]
     },
     "execution_count": 8,
     "metadata": {},
     "output_type": "execute_result"
    }
   ],
   "source": [
    "wine_df.dropna(inplace=True)\n",
    "wine_df.shape"
   ]
  },
  {
   "cell_type": "code",
   "execution_count": 9,
   "id": "f05e1007",
   "metadata": {},
   "outputs": [
    {
     "data": {
      "text/plain": [
       "False    1357\n",
       "True      239\n",
       "dtype: int64"
      ]
     },
     "execution_count": 9,
     "metadata": {},
     "output_type": "execute_result"
    }
   ],
   "source": [
    "wine_df.duplicated().value_counts()"
   ]
  },
  {
   "cell_type": "code",
   "execution_count": 10,
   "id": "092ad4f2",
   "metadata": {},
   "outputs": [],
   "source": [
    "# wine_df.drop_duplicates(inplace=True)\n",
    "# wine_df.duplicated().value_counts()"
   ]
  },
  {
   "cell_type": "code",
   "execution_count": 11,
   "id": "1371e0ad",
   "metadata": {},
   "outputs": [
    {
     "data": {
      "text/plain": [
       "(1596, 12)"
      ]
     },
     "execution_count": 11,
     "metadata": {},
     "output_type": "execute_result"
    }
   ],
   "source": [
    "wine_df.shape"
   ]
  },
  {
   "cell_type": "markdown",
   "id": "2bd72749",
   "metadata": {},
   "source": [
    "### EDA"
   ]
  },
  {
   "cell_type": "code",
   "execution_count": 12,
   "id": "a45a8468",
   "metadata": {},
   "outputs": [
    {
     "data": {
      "text/html": [
       "<div>\n",
       "<style scoped>\n",
       "    .dataframe tbody tr th:only-of-type {\n",
       "        vertical-align: middle;\n",
       "    }\n",
       "\n",
       "    .dataframe tbody tr th {\n",
       "        vertical-align: top;\n",
       "    }\n",
       "\n",
       "    .dataframe thead th {\n",
       "        text-align: right;\n",
       "    }\n",
       "</style>\n",
       "<table border=\"1\" class=\"dataframe\">\n",
       "  <thead>\n",
       "    <tr style=\"text-align: right;\">\n",
       "      <th></th>\n",
       "      <th>fixed acidity</th>\n",
       "      <th>volatile acidity</th>\n",
       "      <th>citric acid</th>\n",
       "      <th>residual sugar</th>\n",
       "      <th>chlorides</th>\n",
       "      <th>free sulfur dioxide</th>\n",
       "      <th>total sulfur dioxide</th>\n",
       "      <th>density</th>\n",
       "      <th>pH</th>\n",
       "      <th>sulphates</th>\n",
       "      <th>alcohol</th>\n",
       "      <th>quality</th>\n",
       "    </tr>\n",
       "  </thead>\n",
       "  <tbody>\n",
       "    <tr>\n",
       "      <th>fixed acidity</th>\n",
       "      <td>1.000000</td>\n",
       "      <td>-0.255955</td>\n",
       "      <td>0.672203</td>\n",
       "      <td>0.115542</td>\n",
       "      <td>0.093517</td>\n",
       "      <td>-0.154348</td>\n",
       "      <td>-0.112605</td>\n",
       "      <td>0.668689</td>\n",
       "      <td>0.026958</td>\n",
       "      <td>0.183046</td>\n",
       "      <td>-0.062419</td>\n",
       "      <td>0.124090</td>\n",
       "    </tr>\n",
       "    <tr>\n",
       "      <th>volatile acidity</th>\n",
       "      <td>-0.255955</td>\n",
       "      <td>1.000000</td>\n",
       "      <td>-0.552080</td>\n",
       "      <td>0.002286</td>\n",
       "      <td>0.061452</td>\n",
       "      <td>-0.009960</td>\n",
       "      <td>0.076832</td>\n",
       "      <td>0.021761</td>\n",
       "      <td>-0.046243</td>\n",
       "      <td>-0.260504</td>\n",
       "      <td>-0.201591</td>\n",
       "      <td>-0.390616</td>\n",
       "    </tr>\n",
       "    <tr>\n",
       "      <th>citric acid</th>\n",
       "      <td>0.672203</td>\n",
       "      <td>-0.552080</td>\n",
       "      <td>1.000000</td>\n",
       "      <td>0.143201</td>\n",
       "      <td>0.203904</td>\n",
       "      <td>-0.061621</td>\n",
       "      <td>0.034873</td>\n",
       "      <td>0.365526</td>\n",
       "      <td>0.008324</td>\n",
       "      <td>0.312146</td>\n",
       "      <td>0.109062</td>\n",
       "      <td>0.226261</td>\n",
       "    </tr>\n",
       "    <tr>\n",
       "      <th>residual sugar</th>\n",
       "      <td>0.115542</td>\n",
       "      <td>0.002286</td>\n",
       "      <td>0.143201</td>\n",
       "      <td>1.000000</td>\n",
       "      <td>0.056236</td>\n",
       "      <td>0.187112</td>\n",
       "      <td>0.201120</td>\n",
       "      <td>0.355219</td>\n",
       "      <td>0.043099</td>\n",
       "      <td>0.004105</td>\n",
       "      <td>0.041798</td>\n",
       "      <td>0.015165</td>\n",
       "    </tr>\n",
       "    <tr>\n",
       "      <th>chlorides</th>\n",
       "      <td>0.093517</td>\n",
       "      <td>0.061452</td>\n",
       "      <td>0.203904</td>\n",
       "      <td>0.056236</td>\n",
       "      <td>1.000000</td>\n",
       "      <td>0.005456</td>\n",
       "      <td>0.047837</td>\n",
       "      <td>0.200860</td>\n",
       "      <td>-0.259456</td>\n",
       "      <td>0.371510</td>\n",
       "      <td>-0.221472</td>\n",
       "      <td>-0.129172</td>\n",
       "    </tr>\n",
       "    <tr>\n",
       "      <th>free sulfur dioxide</th>\n",
       "      <td>-0.154348</td>\n",
       "      <td>-0.009960</td>\n",
       "      <td>-0.061621</td>\n",
       "      <td>0.187112</td>\n",
       "      <td>0.005456</td>\n",
       "      <td>1.000000</td>\n",
       "      <td>0.668505</td>\n",
       "      <td>-0.021797</td>\n",
       "      <td>-0.025512</td>\n",
       "      <td>0.051200</td>\n",
       "      <td>-0.070222</td>\n",
       "      <td>-0.050656</td>\n",
       "    </tr>\n",
       "    <tr>\n",
       "      <th>total sulfur dioxide</th>\n",
       "      <td>-0.112605</td>\n",
       "      <td>0.076832</td>\n",
       "      <td>0.034873</td>\n",
       "      <td>0.201120</td>\n",
       "      <td>0.047837</td>\n",
       "      <td>0.668505</td>\n",
       "      <td>1.000000</td>\n",
       "      <td>0.070830</td>\n",
       "      <td>-0.162984</td>\n",
       "      <td>0.042082</td>\n",
       "      <td>-0.205951</td>\n",
       "      <td>-0.184857</td>\n",
       "    </tr>\n",
       "    <tr>\n",
       "      <th>density</th>\n",
       "      <td>0.668689</td>\n",
       "      <td>0.021761</td>\n",
       "      <td>0.365526</td>\n",
       "      <td>0.355219</td>\n",
       "      <td>0.200860</td>\n",
       "      <td>-0.021797</td>\n",
       "      <td>0.070830</td>\n",
       "      <td>1.000000</td>\n",
       "      <td>-0.037144</td>\n",
       "      <td>0.148561</td>\n",
       "      <td>-0.496244</td>\n",
       "      <td>-0.174567</td>\n",
       "    </tr>\n",
       "    <tr>\n",
       "      <th>pH</th>\n",
       "      <td>0.026958</td>\n",
       "      <td>-0.046243</td>\n",
       "      <td>0.008324</td>\n",
       "      <td>0.043099</td>\n",
       "      <td>-0.259456</td>\n",
       "      <td>-0.025512</td>\n",
       "      <td>-0.162984</td>\n",
       "      <td>-0.037144</td>\n",
       "      <td>1.000000</td>\n",
       "      <td>-0.260327</td>\n",
       "      <td>0.233510</td>\n",
       "      <td>0.133216</td>\n",
       "    </tr>\n",
       "    <tr>\n",
       "      <th>sulphates</th>\n",
       "      <td>0.183046</td>\n",
       "      <td>-0.260504</td>\n",
       "      <td>0.312146</td>\n",
       "      <td>0.004105</td>\n",
       "      <td>0.371510</td>\n",
       "      <td>0.051200</td>\n",
       "      <td>0.042082</td>\n",
       "      <td>0.148561</td>\n",
       "      <td>-0.260327</td>\n",
       "      <td>1.000000</td>\n",
       "      <td>0.092940</td>\n",
       "      <td>0.251798</td>\n",
       "    </tr>\n",
       "    <tr>\n",
       "      <th>alcohol</th>\n",
       "      <td>-0.062419</td>\n",
       "      <td>-0.201591</td>\n",
       "      <td>0.109062</td>\n",
       "      <td>0.041798</td>\n",
       "      <td>-0.221472</td>\n",
       "      <td>-0.070222</td>\n",
       "      <td>-0.205951</td>\n",
       "      <td>-0.496244</td>\n",
       "      <td>0.233510</td>\n",
       "      <td>0.092940</td>\n",
       "      <td>1.000000</td>\n",
       "      <td>0.476565</td>\n",
       "    </tr>\n",
       "    <tr>\n",
       "      <th>quality</th>\n",
       "      <td>0.124090</td>\n",
       "      <td>-0.390616</td>\n",
       "      <td>0.226261</td>\n",
       "      <td>0.015165</td>\n",
       "      <td>-0.129172</td>\n",
       "      <td>-0.050656</td>\n",
       "      <td>-0.184857</td>\n",
       "      <td>-0.174567</td>\n",
       "      <td>0.133216</td>\n",
       "      <td>0.251798</td>\n",
       "      <td>0.476565</td>\n",
       "      <td>1.000000</td>\n",
       "    </tr>\n",
       "  </tbody>\n",
       "</table>\n",
       "</div>"
      ],
      "text/plain": [
       "                      fixed acidity  volatile acidity  citric acid  \\\n",
       "fixed acidity              1.000000         -0.255955     0.672203   \n",
       "volatile acidity          -0.255955          1.000000    -0.552080   \n",
       "citric acid                0.672203         -0.552080     1.000000   \n",
       "residual sugar             0.115542          0.002286     0.143201   \n",
       "chlorides                  0.093517          0.061452     0.203904   \n",
       "free sulfur dioxide       -0.154348         -0.009960    -0.061621   \n",
       "total sulfur dioxide      -0.112605          0.076832     0.034873   \n",
       "density                    0.668689          0.021761     0.365526   \n",
       "pH                         0.026958         -0.046243     0.008324   \n",
       "sulphates                  0.183046         -0.260504     0.312146   \n",
       "alcohol                   -0.062419         -0.201591     0.109062   \n",
       "quality                    0.124090         -0.390616     0.226261   \n",
       "\n",
       "                      residual sugar  chlorides  free sulfur dioxide  \\\n",
       "fixed acidity               0.115542   0.093517            -0.154348   \n",
       "volatile acidity            0.002286   0.061452            -0.009960   \n",
       "citric acid                 0.143201   0.203904            -0.061621   \n",
       "residual sugar              1.000000   0.056236             0.187112   \n",
       "chlorides                   0.056236   1.000000             0.005456   \n",
       "free sulfur dioxide         0.187112   0.005456             1.000000   \n",
       "total sulfur dioxide        0.201120   0.047837             0.668505   \n",
       "density                     0.355219   0.200860            -0.021797   \n",
       "pH                          0.043099  -0.259456            -0.025512   \n",
       "sulphates                   0.004105   0.371510             0.051200   \n",
       "alcohol                     0.041798  -0.221472            -0.070222   \n",
       "quality                     0.015165  -0.129172            -0.050656   \n",
       "\n",
       "                      total sulfur dioxide   density        pH  sulphates  \\\n",
       "fixed acidity                    -0.112605  0.668689  0.026958   0.183046   \n",
       "volatile acidity                  0.076832  0.021761 -0.046243  -0.260504   \n",
       "citric acid                       0.034873  0.365526  0.008324   0.312146   \n",
       "residual sugar                    0.201120  0.355219  0.043099   0.004105   \n",
       "chlorides                         0.047837  0.200860 -0.259456   0.371510   \n",
       "free sulfur dioxide               0.668505 -0.021797 -0.025512   0.051200   \n",
       "total sulfur dioxide              1.000000  0.070830 -0.162984   0.042082   \n",
       "density                           0.070830  1.000000 -0.037144   0.148561   \n",
       "pH                               -0.162984 -0.037144  1.000000  -0.260327   \n",
       "sulphates                         0.042082  0.148561 -0.260327   1.000000   \n",
       "alcohol                          -0.205951 -0.496244  0.233510   0.092940   \n",
       "quality                          -0.184857 -0.174567  0.133216   0.251798   \n",
       "\n",
       "                       alcohol   quality  \n",
       "fixed acidity        -0.062419  0.124090  \n",
       "volatile acidity     -0.201591 -0.390616  \n",
       "citric acid           0.109062  0.226261  \n",
       "residual sugar        0.041798  0.015165  \n",
       "chlorides            -0.221472 -0.129172  \n",
       "free sulfur dioxide  -0.070222 -0.050656  \n",
       "total sulfur dioxide -0.205951 -0.184857  \n",
       "density              -0.496244 -0.174567  \n",
       "pH                    0.233510  0.133216  \n",
       "sulphates             0.092940  0.251798  \n",
       "alcohol               1.000000  0.476565  \n",
       "quality               0.476565  1.000000  "
      ]
     },
     "execution_count": 12,
     "metadata": {},
     "output_type": "execute_result"
    }
   ],
   "source": [
    "wine_df.corr()"
   ]
  },
  {
   "cell_type": "code",
   "execution_count": 38,
   "id": "bf88ea40",
   "metadata": {},
   "outputs": [
    {
     "data": {
      "text/plain": [
       "<AxesSubplot:>"
      ]
     },
     "execution_count": 38,
     "metadata": {},
     "output_type": "execute_result"
    },
    {
     "data": {
      "image/png": "[encoded data removed]",
      "text/plain": [
       "<Figure size 640x480 with 1 Axes>"
      ]
     },
     "metadata": {},
     "output_type": "display_data"
    }
   ],
   "source": [
    "sns.heatmap(wine_df.corr(),annot=True,cbar=False,fmt = '.1f',cmap='viridis')"
   ]
  },
  {
   "cell_type": "code",
   "execution_count": 14,
   "id": "efbe981f",
   "metadata": {},
   "outputs": [
    {
     "data": {
      "text/plain": [
       "5.0    679\n",
       "6.0    637\n",
       "7.0    199\n",
       "4.0     53\n",
       "8.0     18\n",
       "3.0     10\n",
       "Name: quality, dtype: int64"
      ]
     },
     "execution_count": 14,
     "metadata": {},
     "output_type": "execute_result"
    }
   ],
   "source": [
    "wine_df['quality'].value_counts()"
   ]
  },
  {
   "cell_type": "markdown",
   "id": "6eee0025",
   "metadata": {},
   "source": [
    "## Visualization"
   ]
  },
  {
   "cell_type": "code",
   "execution_count": 41,
   "id": "0b3ca8cc",
   "metadata": {},
   "outputs": [
    {
     "data": {
      "text/plain": [
       "<seaborn.axisgrid.FacetGrid at 0x1e4ce9faa90>"
      ]
     },
     "execution_count": 41,
     "metadata": {},
     "output_type": "execute_result"
    },
    {
     "data": {
      "image/png": "[encoded data removed]",
      "text/plain": [
       "<Figure size 500x500 with 1 Axes>"
      ]
     },
     "metadata": {},
     "output_type": "display_data"
    }
   ],
   "source": [
    "sns.catplot(data=wine_df, x='quality',kind='count')"
   ]
  },
  {
   "cell_type": "markdown",
   "id": "5243816a",
   "metadata": {},
   "source": [
    "## Creating Bins"
   ]
  },
  {
   "cell_type": "markdown",
   "id": "1b55c937",
   "metadata": {},
   "source": [
    "The quality is a categorical feature ranging from values 0-12. Below, I have created a function to create 3 category based on wine quality. The categories are as follows:\n",
    "\n",
    "Quality >=7 : 2 (High Quality)\n",
    "\n",
    "Quality between 4 and 6 : 1 (Medium Quality)\n",
    "\n",
    "Quality <=3 : 0 (Low Quality)"
   ]
  },
  {
   "cell_type": "code",
   "execution_count": 16,
   "id": "7ba70960",
   "metadata": {},
   "outputs": [],
   "source": [
    "# Creating function to create bins in quality\n",
    "def create_bins(quality):\n",
    "    if quality>=7:\n",
    "        return 2\n",
    "    elif quality<=6 and quality>=4:\n",
    "        return 1\n",
    "    else:\n",
    "        return 0"
   ]
  },
  {
   "cell_type": "code",
   "execution_count": 17,
   "id": "62b01fe6",
   "metadata": {},
   "outputs": [
    {
     "data": {
      "text/html": [
       "<div>\n",
       "<style scoped>\n",
       "    .dataframe tbody tr th:only-of-type {\n",
       "        vertical-align: middle;\n",
       "    }\n",
       "\n",
       "    .dataframe tbody tr th {\n",
       "        vertical-align: top;\n",
       "    }\n",
       "\n",
       "    .dataframe thead th {\n",
       "        text-align: right;\n",
       "    }\n",
       "</style>\n",
       "<table border=\"1\" class=\"dataframe\">\n",
       "  <thead>\n",
       "    <tr style=\"text-align: right;\">\n",
       "      <th></th>\n",
       "      <th>fixed acidity</th>\n",
       "      <th>volatile acidity</th>\n",
       "      <th>citric acid</th>\n",
       "      <th>residual sugar</th>\n",
       "      <th>chlorides</th>\n",
       "      <th>free sulfur dioxide</th>\n",
       "      <th>total sulfur dioxide</th>\n",
       "      <th>density</th>\n",
       "      <th>pH</th>\n",
       "      <th>sulphates</th>\n",
       "      <th>alcohol</th>\n",
       "      <th>quality</th>\n",
       "      <th>quality_range</th>\n",
       "    </tr>\n",
       "  </thead>\n",
       "  <tbody>\n",
       "    <tr>\n",
       "      <th>0</th>\n",
       "      <td>7.4</td>\n",
       "      <td>0.70</td>\n",
       "      <td>0.00</td>\n",
       "      <td>1.9</td>\n",
       "      <td>0.076</td>\n",
       "      <td>11.0</td>\n",
       "      <td>34.0</td>\n",
       "      <td>0.9978</td>\n",
       "      <td>3.51</td>\n",
       "      <td>0.56</td>\n",
       "      <td>9.4</td>\n",
       "      <td>5.0</td>\n",
       "      <td>1</td>\n",
       "    </tr>\n",
       "    <tr>\n",
       "      <th>1</th>\n",
       "      <td>7.8</td>\n",
       "      <td>0.88</td>\n",
       "      <td>0.00</td>\n",
       "      <td>2.6</td>\n",
       "      <td>0.098</td>\n",
       "      <td>25.0</td>\n",
       "      <td>67.0</td>\n",
       "      <td>0.9968</td>\n",
       "      <td>3.20</td>\n",
       "      <td>0.68</td>\n",
       "      <td>9.8</td>\n",
       "      <td>5.0</td>\n",
       "      <td>1</td>\n",
       "    </tr>\n",
       "    <tr>\n",
       "      <th>2</th>\n",
       "      <td>7.8</td>\n",
       "      <td>0.76</td>\n",
       "      <td>0.04</td>\n",
       "      <td>2.3</td>\n",
       "      <td>0.092</td>\n",
       "      <td>15.0</td>\n",
       "      <td>54.0</td>\n",
       "      <td>0.9970</td>\n",
       "      <td>3.26</td>\n",
       "      <td>0.65</td>\n",
       "      <td>9.8</td>\n",
       "      <td>5.0</td>\n",
       "      <td>1</td>\n",
       "    </tr>\n",
       "    <tr>\n",
       "      <th>3</th>\n",
       "      <td>11.2</td>\n",
       "      <td>0.28</td>\n",
       "      <td>0.56</td>\n",
       "      <td>1.9</td>\n",
       "      <td>0.075</td>\n",
       "      <td>17.0</td>\n",
       "      <td>60.0</td>\n",
       "      <td>0.9980</td>\n",
       "      <td>3.16</td>\n",
       "      <td>0.58</td>\n",
       "      <td>9.8</td>\n",
       "      <td>6.0</td>\n",
       "      <td>1</td>\n",
       "    </tr>\n",
       "    <tr>\n",
       "      <th>4</th>\n",
       "      <td>7.4</td>\n",
       "      <td>0.70</td>\n",
       "      <td>0.00</td>\n",
       "      <td>1.9</td>\n",
       "      <td>0.076</td>\n",
       "      <td>11.0</td>\n",
       "      <td>34.0</td>\n",
       "      <td>0.9978</td>\n",
       "      <td>3.51</td>\n",
       "      <td>0.56</td>\n",
       "      <td>9.4</td>\n",
       "      <td>5.0</td>\n",
       "      <td>1</td>\n",
       "    </tr>\n",
       "  </tbody>\n",
       "</table>\n",
       "</div>"
      ],
      "text/plain": [
       "   fixed acidity  volatile acidity  citric acid  residual sugar  chlorides  \\\n",
       "0            7.4              0.70         0.00             1.9      0.076   \n",
       "1            7.8              0.88         0.00             2.6      0.098   \n",
       "2            7.8              0.76         0.04             2.3      0.092   \n",
       "3           11.2              0.28         0.56             1.9      0.075   \n",
       "4            7.4              0.70         0.00             1.9      0.076   \n",
       "\n",
       "   free sulfur dioxide  total sulfur dioxide  density    pH  sulphates  \\\n",
       "0                 11.0                  34.0   0.9978  3.51       0.56   \n",
       "1                 25.0                  67.0   0.9968  3.20       0.68   \n",
       "2                 15.0                  54.0   0.9970  3.26       0.65   \n",
       "3                 17.0                  60.0   0.9980  3.16       0.58   \n",
       "4                 11.0                  34.0   0.9978  3.51       0.56   \n",
       "\n",
       "   alcohol  quality  quality_range  \n",
       "0      9.4      5.0              1  \n",
       "1      9.8      5.0              1  \n",
       "2      9.8      5.0              1  \n",
       "3      9.8      6.0              1  \n",
       "4      9.4      5.0              1  "
      ]
     },
     "execution_count": 17,
     "metadata": {},
     "output_type": "execute_result"
    }
   ],
   "source": [
    "#Using apply funtion to create a new column quality range\n",
    "wine_df['quality_range'] = wine_df['quality'].apply(create_bins)\n",
    "wine_df.head()"
   ]
  },
  {
   "cell_type": "code",
   "execution_count": 18,
   "id": "75161dbc",
   "metadata": {},
   "outputs": [
    {
     "data": {
      "text/plain": [
       "<seaborn.axisgrid.FacetGrid at 0x1e4cd9a34c0>"
      ]
     },
     "execution_count": 18,
     "metadata": {},
     "output_type": "execute_result"
    },
    {
     "data": {
      "image/png": "[encoded data removed]",
      "text/plain": [
       "<Figure size 500x500 with 1 Axes>"
      ]
     },
     "metadata": {},
     "output_type": "display_data"
    }
   ],
   "source": [
    "sns.catplot(data=wine_df, x='quality_range',kind='count')"
   ]
  },
  {
   "cell_type": "markdown",
   "id": "bbf2a359",
   "metadata": {},
   "source": [
    "## Model Building"
   ]
  },
  {
   "cell_type": "code",
   "execution_count": 19,
   "id": "1a3cea67",
   "metadata": {},
   "outputs": [],
   "source": [
    "x = wine_df.drop([\"quality\",'quality_range'],axis=True)\n",
    "y = wine_df[\"quality_range\"]"
   ]
  },
  {
   "cell_type": "markdown",
   "id": "bd9edac6",
   "metadata": {},
   "source": [
    "Creating Training and Test data. Taking 80% for train and 20% for test"
   ]
  },
  {
   "cell_type": "code",
   "execution_count": 24,
   "id": "1b5b38fd",
   "metadata": {},
   "outputs": [],
   "source": [
    "X_train, X_test, Y_train, Y_test = train_test_split(x,y , test_size=0.2, random_state=3)"
   ]
  },
  {
   "cell_type": "markdown",
   "id": "ed7367fd",
   "metadata": {},
   "source": [
    "Training the model using Random Forest Classifier"
   ]
  },
  {
   "cell_type": "code",
   "execution_count": 25,
   "id": "03cabf42",
   "metadata": {},
   "outputs": [
    {
     "data": {
      "text/plain": [
       "RandomForestClassifier()"
      ]
     },
     "execution_count": 25,
     "metadata": {},
     "output_type": "execute_result"
    }
   ],
   "source": [
    "model = RandomForestClassifier()\n",
    "model.fit(X_train,Y_train)"
   ]
  },
  {
   "cell_type": "markdown",
   "id": "27aad691",
   "metadata": {},
   "source": [
    "### Model Evaluation"
   ]
  },
  {
   "cell_type": "code",
   "execution_count": 26,
   "id": "f9214948",
   "metadata": {},
   "outputs": [],
   "source": [
    "Y_pred = model.predict(X_test)\n",
    "test_data_accuracy = accuracy_score(Y_pred, Y_test)"
   ]
  },
  {
   "cell_type": "code",
   "execution_count": 27,
   "id": "d901fcb5",
   "metadata": {},
   "outputs": [
    {
     "name": "stdout",
     "output_type": "stream",
     "text": [
      "Accuracy :  0.896875\n"
     ]
    }
   ],
   "source": [
    "print('Accuracy : ', test_data_accuracy)"
   ]
  },
  {
   "cell_type": "markdown",
   "id": "96ea43b4",
   "metadata": {},
   "source": [
    "From above, we can see that the model has accuracy score of 0.896"
   ]
  },
  {
   "cell_type": "markdown",
   "id": "89faa7d6",
   "metadata": {},
   "source": [
    "Forming a new dataframe of y_test and predicted y_pred values for test data"
   ]
  },
  {
   "cell_type": "code",
   "execution_count": 28,
   "id": "a5dcf3bc",
   "metadata": {},
   "outputs": [],
   "source": [
    "predict_df = pd.DataFrame({\"y_test\": Y_test, \"y_pred\": Y_pred})"
   ]
  },
  {
   "cell_type": "code",
   "execution_count": 29,
   "id": "00e94574",
   "metadata": {},
   "outputs": [
    {
     "data": {
      "text/html": [
       "<div>\n",
       "<style scoped>\n",
       "    .dataframe tbody tr th:only-of-type {\n",
       "        vertical-align: middle;\n",
       "    }\n",
       "\n",
       "    .dataframe tbody tr th {\n",
       "        vertical-align: top;\n",
       "    }\n",
       "\n",
       "    .dataframe thead th {\n",
       "        text-align: right;\n",
       "    }\n",
       "</style>\n",
       "<table border=\"1\" class=\"dataframe\">\n",
       "  <thead>\n",
       "    <tr style=\"text-align: right;\">\n",
       "      <th></th>\n",
       "      <th>y_test</th>\n",
       "      <th>y_pred</th>\n",
       "    </tr>\n",
       "  </thead>\n",
       "  <tbody>\n",
       "    <tr>\n",
       "      <th>267</th>\n",
       "      <td>2</td>\n",
       "      <td>2</td>\n",
       "    </tr>\n",
       "    <tr>\n",
       "      <th>410</th>\n",
       "      <td>1</td>\n",
       "      <td>1</td>\n",
       "    </tr>\n",
       "    <tr>\n",
       "      <th>947</th>\n",
       "      <td>2</td>\n",
       "      <td>2</td>\n",
       "    </tr>\n",
       "    <tr>\n",
       "      <th>1375</th>\n",
       "      <td>1</td>\n",
       "      <td>1</td>\n",
       "    </tr>\n",
       "    <tr>\n",
       "      <th>887</th>\n",
       "      <td>2</td>\n",
       "      <td>1</td>\n",
       "    </tr>\n",
       "    <tr>\n",
       "      <th>...</th>\n",
       "      <td>...</td>\n",
       "      <td>...</td>\n",
       "    </tr>\n",
       "    <tr>\n",
       "      <th>763</th>\n",
       "      <td>1</td>\n",
       "      <td>1</td>\n",
       "    </tr>\n",
       "    <tr>\n",
       "      <th>962</th>\n",
       "      <td>1</td>\n",
       "      <td>1</td>\n",
       "    </tr>\n",
       "    <tr>\n",
       "      <th>190</th>\n",
       "      <td>1</td>\n",
       "      <td>1</td>\n",
       "    </tr>\n",
       "    <tr>\n",
       "      <th>1178</th>\n",
       "      <td>1</td>\n",
       "      <td>1</td>\n",
       "    </tr>\n",
       "    <tr>\n",
       "      <th>1145</th>\n",
       "      <td>1</td>\n",
       "      <td>1</td>\n",
       "    </tr>\n",
       "  </tbody>\n",
       "</table>\n",
       "<p>320 rows × 2 columns</p>\n",
       "</div>"
      ],
      "text/plain": [
       "      y_test  y_pred\n",
       "267        2       2\n",
       "410        1       1\n",
       "947        2       2\n",
       "1375       1       1\n",
       "887        2       1\n",
       "...      ...     ...\n",
       "763        1       1\n",
       "962        1       1\n",
       "190        1       1\n",
       "1178       1       1\n",
       "1145       1       1\n",
       "\n",
       "[320 rows x 2 columns]"
      ]
     },
     "execution_count": 29,
     "metadata": {},
     "output_type": "execute_result"
    }
   ],
   "source": [
    "predict_df"
   ]
  },
  {
   "cell_type": "markdown",
   "id": "446ae30b",
   "metadata": {},
   "source": [
    "Making a Confustion Matrix"
   ]
  },
  {
   "cell_type": "code",
   "execution_count": 31,
   "id": "48fcc526",
   "metadata": {},
   "outputs": [],
   "source": [
    "y_pred = Y_pred.tolist()\n",
    "y_test = Y_test.tolist()"
   ]
  },
  {
   "cell_type": "code",
   "execution_count": 32,
   "id": "a6c5d985",
   "metadata": {},
   "outputs": [
    {
     "name": "stdout",
     "output_type": "stream",
     "text": [
      "[[  0   2   0]\n",
      " [  0 267   2]\n",
      " [  0  29  20]]\n"
     ]
    }
   ],
   "source": [
    "confusion_mat = confusion_matrix(y_test,y_pred)\n",
    "print(confusion_mat)"
   ]
  },
  {
   "cell_type": "code",
   "execution_count": 37,
   "id": "f5a073fd",
   "metadata": {},
   "outputs": [
    {
     "data": {
      "text/plain": [
       "<AxesSubplot:>"
      ]
     },
     "execution_count": 37,
     "metadata": {},
     "output_type": "execute_result"
    },
    {
     "data": {
      "image/png": "[encoded data removed]",
      "text/plain": [
       "<Figure size 640x480 with 2 Axes>"
      ]
     },
     "metadata": {},
     "output_type": "display_data"
    }
   ],
   "source": [
    "sns.heatmap(confusion_mat, annot=True,fmt = '.1f', cmap='viridis')"
   ]
  },
  {
   "cell_type": "code",
   "execution_count": null,
   "id": "f5c6de0d",
   "metadata": {},
   "outputs": [],
   "source": []
  }
 ],
 "metadata": {
  "kernelspec": {
   "display_name": "Python 3 (ipykernel)",
   "language": "python",
   "name": "python3"
  },
  "language_info": {
   "codemirror_mode": {
    "name": "ipython",
    "version": 3
   },
   "file_extension": ".py",
   "mimetype": "text/x-python",
   "name": "python",
   "nbconvert_exporter": "python",
   "pygments_lexer": "ipython3",
   "version": "3.9.12"
  }
 },
 "nbformat": 4,
 "nbformat_minor": 5
}
